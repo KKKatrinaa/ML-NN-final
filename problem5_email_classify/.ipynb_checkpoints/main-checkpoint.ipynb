{
 "cells": [
  {
   "cell_type": "markdown",
   "id": "f9dfb6b2-ea4a-4911-93f7-7e525e583e4e",
   "metadata": {},
   "source": [
    "# 加载数据"
   ]
  },
  {
   "cell_type": "code",
   "execution_count": 1,
   "id": "e0877947-cca2-43eb-98a5-41cb306aef32",
   "metadata": {
    "tags": []
   },
   "outputs": [],
   "source": [
    "import pandas as pd"
   ]
  },
  {
   "cell_type": "code",
   "execution_count": 2,
   "id": "46ea63b6-7d79-44dc-8797-784509f99c1e",
   "metadata": {
    "tags": []
   },
   "outputs": [
    {
     "name": "stdout",
     "output_type": "stream",
     "text": [
      "/cpfs01/user/lvhongxia/ML-NN-final/problem5_email_classify\n"
     ]
    }
   ],
   "source": [
    "!pwd"
   ]
  },
  {
   "cell_type": "code",
   "execution_count": 3,
   "id": "5680bfe4-9bf8-4dca-824f-f707d3931349",
   "metadata": {
    "tags": []
   },
   "outputs": [],
   "source": [
    "file_path = \"/cpfs01/user/lvhongxia/ML-NN-final/problem5_email_classify/enron_spam_data/enron_spam_data.csv\""
   ]
  },
  {
   "cell_type": "code",
   "execution_count": 4,
   "id": "fefa60fc-dbb4-4a8c-b69c-e1b97c649840",
   "metadata": {
    "tags": []
   },
   "outputs": [],
   "source": [
    "data = pd.read_csv(file_path, encoding='utf-8')"
   ]
  },
  {
   "cell_type": "code",
   "execution_count": 5,
   "id": "e68bbe2b-0298-4148-93e4-e71a545d4f50",
   "metadata": {
    "tags": []
   },
   "outputs": [
    {
     "data": {
      "text/plain": [
       "'gary , production from the high island larger block a - 1 # 2 commenced on\\nsaturday at 2 : 00 p . m . at about 6 , 500 gross . carlos expects between 9 , 500 and\\n10 , 000 gross for tomorrow . vastar owns 68 % of the gross production .\\ngeorge x 3 - 6992\\n- - - - - - - - - - - - - - - - - - - - - - forwarded by george weissman / hou / ect on 12 / 13 / 99 10 : 16\\nam - - - - - - - - - - - - - - - - - - - - - - - - - - -\\ndaren j farmer\\n12 / 10 / 99 10 : 38 am\\nto : carlos j rodriguez / hou / ect @ ect\\ncc : george weissman / hou / ect @ ect , melissa graves / hou / ect @ ect\\nsubject : vastar resources , inc .\\ncarlos ,\\nplease call linda and get everything set up .\\ni \\' m going to estimate 4 , 500 coming up tomorrow , with a 2 , 000 increase each\\nfollowing day based on my conversations with bill fischer at bmar .\\nd .\\n- - - - - - - - - - - - - - - - - - - - - - forwarded by daren j farmer / hou / ect on 12 / 10 / 99 10 : 34\\nam - - - - - - - - - - - - - - - - - - - - - - - - - - -\\nenron north america corp .\\nfrom : george weissman 12 / 10 / 99 10 : 00 am\\nto : daren j farmer / hou / ect @ ect\\ncc : gary bryan / hou / ect @ ect , melissa graves / hou / ect @ ect\\nsubject : vastar resources , inc .\\ndarren ,\\nthe attached appears to be a nomination from vastar resources , inc . for the\\nhigh island larger block a - 1 # 2 ( previously , erroneously referred to as the\\n# 1 well ) . vastar now expects the well to commence production sometime\\ntomorrow . i told linda harris that we \\' d get her a telephone number in gas\\ncontrol so she can provide notification of the turn - on tomorrow . linda \\' s\\nnumbers , for the record , are 281 . 584 . 3359 voice and 713 . 312 . 1689 fax .\\nwould you please see that someone contacts linda and advises her how to\\nsubmit future nominations via e - mail , fax or voice ? thanks .\\ngeorge x 3 - 6992\\n- - - - - - - - - - - - - - - - - - - - - - forwarded by george weissman / hou / ect on 12 / 10 / 99 09 : 44\\nam - - - - - - - - - - - - - - - - - - - - - - - - - - -\\n\" linda harris \" on 12 / 10 / 99 09 : 38 : 43 am\\nto : george weissman / hou / ect @ ect\\ncc :\\nsubject : hi a - 1 # 2\\neffective 12 - 11 - 99\\n| - - - - - - - - + - - - - - - - - - - + - - - - - - - - - - - |\\n| | | |\\n| mscf / d | min ftp | time |\\n| | | |\\n| - - - - - - - - + - - - - - - - - - - + - - - - - - - - - - - |\\n| | | |\\n| 4 , 500 | 9 , 925 | 24 hours |\\n| | | |\\n| - - - - - - - - + - - - - - - - - - - + - - - - - - - - - - - |\\n| | | |\\n| 6 , 000 | 9 , 908 | 24 hours |\\n| | | |\\n| - - - - - - - - + - - - - - - - - - - + - - - - - - - - - - - |\\n| | | |\\n| 8 , 000 | 9 , 878 | 24 hours |\\n| | | |\\n| - - - - - - - - + - - - - - - - - - - + - - - - - - - - - - - |\\n| | | |\\n| 10 , 000 | 9 , 840 | 24 hours |\\n| | | |\\n| - - - - - - - - + - - - - - - - - - - + - - - - - - - - - - - |\\n| | | |\\n| 12 , 000 | 9 , 793 | 24 hours |\\n| | | |\\n| - - - - - - - - + - - - - - - - - - - + - - - - - - - - - - - |\\n| | | |\\n| 14 , 000 | 9 , 738 | 24 hours |\\n| | | |\\n| - - - - - - - - + - - - - - - - - - - + - - - - - - - - - - - |\\n| | | |\\n| 16 , 000 | 9 , 674 | 24 hours |\\n| | | |\\n| - - - - - - - - + - - - - - - - - - - + - - - - - - - - - - - |\\n| | | |\\n| 18 , 000 | 9 , 602 | 24 hours |\\n| | | |\\n| - - - - - - - - + - - - - - - - - - - + - - - - - - - - - - - |\\n| | | |\\n| 20 , 000 | 9 , 521 | 24 hours |\\n| | | |\\n| - - - - - - - - + - - - - - - - - - - + - - - - - - - - - - - |\\n| | | |\\n| 22 , 000 | 9 , 431 | 24 hours |\\n| | | |\\n| - - - - - - - - + - - - - - - - - - - + - - - - - - - - - - - |\\n| | | |\\n| 24 , 000 | 9 , 332 | 24 hours |\\n| | | |\\n| - - - - - - - - + - - - - - - - - - - + - - - - - - - - - - - |\\n| | | |\\n| 26 , 000 | 9 , 224 | 24 hours |\\n| | | |\\n| - - - - - - - - + - - - - - - - - - - + - - - - - - - - - - - |\\n| | | |\\n| 28 , 000 | 9 , 108 | 24 hours |\\n| | | |\\n| - - - - - - - - + - - - - - - - - - - + - - - - - - - - - - - |\\n| | | |\\n| 30 , 000 | 8 , 982 | 24 hours |\\n| | | |\\n| - - - - - - - - + - - - - - - - - - - + - - - - - - - - - - - |\\n| | | |\\n| 32 , 000 | 8 , 847 | 24 hours |\\n| | | |\\n| - - - - - - - - + - - - - - - - - - - + - - - - - - - - - - - |\\n| | | |\\n| 34 , 000 | 8 , 703 | 24 hours |\\n| | | |\\n| - - - - - - - - + - - - - - - - - - - + - - - - - - - - - - - |\\n| | | |\\n| 36 , 000 | 8 , 549 | 24 hours |\\n| | | |\\n| - - - - - - - - + - - - - - - - - - - + - - - - - - - - - - - |'"
      ]
     },
     "execution_count": 5,
     "metadata": {},
     "output_type": "execute_result"
    }
   ],
   "source": [
    "data['Message'][1]"
   ]
  },
  {
   "cell_type": "code",
   "execution_count": 6,
   "id": "f6209cea-ed17-48fe-a188-438175173afc",
   "metadata": {
    "tags": []
   },
   "outputs": [
    {
     "data": {
      "text/html": [
       "<div>\n",
       "<style scoped>\n",
       "    .dataframe tbody tr th:only-of-type {\n",
       "        vertical-align: middle;\n",
       "    }\n",
       "\n",
       "    .dataframe tbody tr th {\n",
       "        vertical-align: top;\n",
       "    }\n",
       "\n",
       "    .dataframe thead th {\n",
       "        text-align: right;\n",
       "    }\n",
       "</style>\n",
       "<table border=\"1\" class=\"dataframe\">\n",
       "  <thead>\n",
       "    <tr style=\"text-align: right;\">\n",
       "      <th></th>\n",
       "      <th>Message ID</th>\n",
       "      <th>Subject</th>\n",
       "      <th>Message</th>\n",
       "      <th>Spam/Ham</th>\n",
       "      <th>Date</th>\n",
       "    </tr>\n",
       "  </thead>\n",
       "  <tbody>\n",
       "    <tr>\n",
       "      <th>0</th>\n",
       "      <td>0</td>\n",
       "      <td>christmas tree farm pictures</td>\n",
       "      <td>NaN</td>\n",
       "      <td>ham</td>\n",
       "      <td>1999-12-10</td>\n",
       "    </tr>\n",
       "    <tr>\n",
       "      <th>1</th>\n",
       "      <td>1</td>\n",
       "      <td>vastar resources , inc .</td>\n",
       "      <td>gary , production from the high island larger ...</td>\n",
       "      <td>ham</td>\n",
       "      <td>1999-12-13</td>\n",
       "    </tr>\n",
       "    <tr>\n",
       "      <th>2</th>\n",
       "      <td>2</td>\n",
       "      <td>calpine daily gas nomination</td>\n",
       "      <td>- calpine daily gas nomination 1 . doc</td>\n",
       "      <td>ham</td>\n",
       "      <td>1999-12-14</td>\n",
       "    </tr>\n",
       "    <tr>\n",
       "      <th>3</th>\n",
       "      <td>3</td>\n",
       "      <td>re : issue</td>\n",
       "      <td>fyi - see note below - already done .\\nstella\\...</td>\n",
       "      <td>ham</td>\n",
       "      <td>1999-12-14</td>\n",
       "    </tr>\n",
       "    <tr>\n",
       "      <th>4</th>\n",
       "      <td>4</td>\n",
       "      <td>meter 7268 nov allocation</td>\n",
       "      <td>fyi .\\n- - - - - - - - - - - - - - - - - - - -...</td>\n",
       "      <td>ham</td>\n",
       "      <td>1999-12-14</td>\n",
       "    </tr>\n",
       "    <tr>\n",
       "      <th>...</th>\n",
       "      <td>...</td>\n",
       "      <td>...</td>\n",
       "      <td>...</td>\n",
       "      <td>...</td>\n",
       "      <td>...</td>\n",
       "    </tr>\n",
       "    <tr>\n",
       "      <th>33711</th>\n",
       "      <td>33711</td>\n",
       "      <td>= ? iso - 8859 - 1 ? q ? good _ news _ c = eda...</td>\n",
       "      <td>hello , welcome to gigapharm onlinne shop .\\np...</td>\n",
       "      <td>spam</td>\n",
       "      <td>2005-07-29</td>\n",
       "    </tr>\n",
       "    <tr>\n",
       "      <th>33712</th>\n",
       "      <td>33712</td>\n",
       "      <td>all prescript medicines are on special . to be...</td>\n",
       "      <td>i got it earlier than expected and it was wrap...</td>\n",
       "      <td>spam</td>\n",
       "      <td>2005-07-29</td>\n",
       "    </tr>\n",
       "    <tr>\n",
       "      <th>33713</th>\n",
       "      <td>33713</td>\n",
       "      <td>the next generation online pharmacy .</td>\n",
       "      <td>are you ready to rock on ? let the man in you ...</td>\n",
       "      <td>spam</td>\n",
       "      <td>2005-07-30</td>\n",
       "    </tr>\n",
       "    <tr>\n",
       "      <th>33714</th>\n",
       "      <td>33714</td>\n",
       "      <td>bloow in 5 - 10 times the time</td>\n",
       "      <td>learn how to last 5 - 10 times longer in\\nbed ...</td>\n",
       "      <td>spam</td>\n",
       "      <td>2005-07-30</td>\n",
       "    </tr>\n",
       "    <tr>\n",
       "      <th>33715</th>\n",
       "      <td>33715</td>\n",
       "      <td>dear sir , i am interested in it</td>\n",
       "      <td>hi : )\\ndo you need some softwares ? i can giv...</td>\n",
       "      <td>spam</td>\n",
       "      <td>2005-07-31</td>\n",
       "    </tr>\n",
       "  </tbody>\n",
       "</table>\n",
       "<p>33716 rows × 5 columns</p>\n",
       "</div>"
      ],
      "text/plain": [
       "       Message ID                                            Subject  \\\n",
       "0               0                       christmas tree farm pictures   \n",
       "1               1                           vastar resources , inc .   \n",
       "2               2                       calpine daily gas nomination   \n",
       "3               3                                         re : issue   \n",
       "4               4                          meter 7268 nov allocation   \n",
       "...           ...                                                ...   \n",
       "33711       33711  = ? iso - 8859 - 1 ? q ? good _ news _ c = eda...   \n",
       "33712       33712  all prescript medicines are on special . to be...   \n",
       "33713       33713              the next generation online pharmacy .   \n",
       "33714       33714                     bloow in 5 - 10 times the time   \n",
       "33715       33715                   dear sir , i am interested in it   \n",
       "\n",
       "                                                 Message Spam/Ham        Date  \n",
       "0                                                    NaN      ham  1999-12-10  \n",
       "1      gary , production from the high island larger ...      ham  1999-12-13  \n",
       "2                 - calpine daily gas nomination 1 . doc      ham  1999-12-14  \n",
       "3      fyi - see note below - already done .\\nstella\\...      ham  1999-12-14  \n",
       "4      fyi .\\n- - - - - - - - - - - - - - - - - - - -...      ham  1999-12-14  \n",
       "...                                                  ...      ...         ...  \n",
       "33711  hello , welcome to gigapharm onlinne shop .\\np...     spam  2005-07-29  \n",
       "33712  i got it earlier than expected and it was wrap...     spam  2005-07-29  \n",
       "33713  are you ready to rock on ? let the man in you ...     spam  2005-07-30  \n",
       "33714  learn how to last 5 - 10 times longer in\\nbed ...     spam  2005-07-30  \n",
       "33715  hi : )\\ndo you need some softwares ? i can giv...     spam  2005-07-31  \n",
       "\n",
       "[33716 rows x 5 columns]"
      ]
     },
     "execution_count": 6,
     "metadata": {},
     "output_type": "execute_result"
    }
   ],
   "source": [
    "data"
   ]
  },
  {
   "cell_type": "markdown",
   "id": "14487c64-5ea5-4a5f-b60b-84069be9db04",
   "metadata": {
    "tags": []
   },
   "source": [
    "# 模型训练"
   ]
  },
  {
   "cell_type": "code",
   "execution_count": 9,
   "id": "be946b58-2d21-4a6a-9bdc-fdbd652f3da5",
   "metadata": {
    "tags": []
   },
   "outputs": [
    {
     "name": "stderr",
     "output_type": "stream",
     "text": [
      "Training LDA: 100%|███████████████████████████████████████████████████| 1/1 [00:20<00:00, 20.97s/it]\n",
      "Training Logistic Regression: 100%|███████████████████████████████████| 1/1 [00:00<00:00,  1.67it/s]"
     ]
    },
    {
     "name": "stdout",
     "output_type": "stream",
     "text": [
      "分类报告:\n",
      "              precision    recall  f1-score   support\n",
      "\n",
      "         ham       0.96      0.96      0.96      3309\n",
      "        spam       0.96      0.96      0.96      3435\n",
      "\n",
      "    accuracy                           0.96      6744\n",
      "   macro avg       0.96      0.96      0.96      6744\n",
      "weighted avg       0.96      0.96      0.96      6744\n",
      "\n"
     ]
    },
    {
     "name": "stderr",
     "output_type": "stream",
     "text": [
      "\n"
     ]
    }
   ],
   "source": [
    "import pandas as pd\n",
    "from sklearn.feature_extraction.text import TfidfVectorizer\n",
    "from sklearn.model_selection import train_test_split\n",
    "from sklearn.preprocessing import LabelEncoder\n",
    "from sklearn.decomposition import LatentDirichletAllocation\n",
    "from sklearn.linear_model import LogisticRegression\n",
    "from sklearn.metrics import classification_report\n",
    "from tqdm import tqdm  \n",
    "\n",
    "# 合并 'Subject' 和 'Message' 两列为 'Content' 列\n",
    "data['Content'] = data['Subject'].fillna('') + ' ' + data['Message'].fillna('')\n",
    "\n",
    "# 标签编码，将 'Spam/Ham' 转换为二进制标签（0 或 1）\n",
    "label_encoder = LabelEncoder()\n",
    "data['Spam/Ham'] = label_encoder.fit_transform(data['Spam/Ham'])\n",
    "\n",
    "# 提取特征 (X) 和标签 (y)\n",
    "X = data['Content']\n",
    "y = data['Spam/Ham']\n",
    "\n",
    "# 将数据集拆分为训练集和测试集\n",
    "X_train, X_test, y_train, y_test = train_test_split(X, y, test_size=0.2, random_state=42, stratify=y)\n",
    "\n",
    "# 使用 TF-IDF 对文本进行向量化\n",
    "# 将文本数据转换为数值特征\n",
    "vectorizer = TfidfVectorizer(max_features=3000, stop_words='english', ngram_range=(1, 1), sublinear_tf=True, use_idf=True)\n",
    "\n",
    "X_train_tfidf = vectorizer.fit_transform(X_train)\n",
    "X_test_tfidf = vectorizer.transform(X_test)\n",
    "\n",
    "# 训练 LDA 模型\n",
    "lda = LatentDirichletAllocation(\n",
    "    n_components=20,              # 设置主题数\n",
    "    learning_method='batch',      # 使用批量学习方法\n",
    "    max_iter=50,                  # 设置最大迭代次数\n",
    "    learning_decay=0.7,           # 设置学习衰减率\n",
    "    learning_offset=10,           # 设置学习偏移量\n",
    "    random_state=42,              # 固定随机种子\n",
    "    n_jobs=-1                     # 使用所有核心进行并行计算\n",
    ")\n",
    "\n",
    "# 使用 LDA 模型提取训练和测试集的主题特征\n",
    "with tqdm(total=1, desc=\"Training LDA\", ncols=100) as pbar:\n",
    "    lda.fit(X_train_tfidf)  \n",
    "    pbar.update(1)  \n",
    "\n",
    "X_train_lda = lda.transform(X_train_tfidf)\n",
    "X_test_lda = lda.transform(X_test_tfidf)\n",
    "\n",
    "# 训练逻辑回归模型进行分类\n",
    "classifier = LogisticRegression(random_state=42, max_iter=1000)\n",
    "\n",
    "with tqdm(total=1, desc=\"Training Logistic Regression\", ncols=100) as pbar:\n",
    "    classifier.fit(X_train_lda, y_train)  \n",
    "    pbar.update(1)  \n",
    "\n",
    "# 评估模型\n",
    "y_pred = classifier.predict(X_test_lda)\n",
    "\n",
    "# 生成分类报告\n",
    "report = classification_report(y_test, y_pred, target_names=label_encoder.classes_)\n",
    "print(\"分类报告:\")\n",
    "print(report)"
   ]
  },
  {
   "cell_type": "markdown",
   "id": "cf563a1f-3764-4d23-93dd-82bbbac6d31e",
   "metadata": {},
   "source": [
    "# 结果分析"
   ]
  },
  {
   "cell_type": "markdown",
   "id": "cdf88bbd-684a-4ba4-818c-98a62cc7cac4",
   "metadata": {},
   "source": [
    "## 混淆矩阵"
   ]
  },
  {
   "cell_type": "code",
   "execution_count": 10,
   "id": "478e93cb-21c4-42c5-b3f9-93748d09c829",
   "metadata": {
    "tags": []
   },
   "outputs": [
    {
     "name": "stderr",
     "output_type": "stream",
     "text": [
      "Matplotlib created a temporary config/cache directory at /tmp/matplotlib-3xwll2zy because the default path (/home/lvhongxia/.cache/matplotlib) is not a writable directory; it is highly recommended to set the MPLCONFIGDIR environment variable to a writable directory, in particular to speed up the import of Matplotlib and to better support multiprocessing.\n"
     ]
    },
    {
     "data": {
      "image/png": "[encoded data removed]",
      "text/plain": [
       "<Figure size 800x600 with 2 Axes>"
      ]
     },
     "metadata": {},
     "output_type": "display_data"
    }
   ],
   "source": [
    "import seaborn as sns\n",
    "import matplotlib.pyplot as plt\n",
    "from sklearn.metrics import confusion_matrix\n",
    "\n",
    "# 计算混淆矩阵\n",
    "cm = confusion_matrix(y_test, y_pred)\n",
    "\n",
    "# 可视化混淆矩阵\n",
    "plt.figure(figsize=(8, 6))\n",
    "sns.heatmap(cm, annot=True, fmt='d', cmap='Blues', xticklabels=label_encoder.classes_, yticklabels=label_encoder.classes_)\n",
    "plt.title(\"Confusion Matrix\")\n",
    "plt.xlabel(\"Predicted\")\n",
    "plt.ylabel(\"True\")\n",
    "plt.show()"
   ]
  },
  {
   "cell_type": "markdown",
   "id": "1cae57f1-1dcf-4b8a-b58b-852060346811",
   "metadata": {},
   "source": [
    "## ROC曲线与AUC"
   ]
  },
  {
   "cell_type": "code",
   "execution_count": 11,
   "id": "6a8a4cf2-0ceb-4669-a78a-43cdae7c45f6",
   "metadata": {
    "tags": []
   },
   "outputs": [
    {
     "data": {
      "image/png": "[encoded data removed]",
      "text/plain": [
       "<Figure size 800x600 with 1 Axes>"
      ]
     },
     "metadata": {},
     "output_type": "display_data"
    }
   ],
   "source": [
    "from sklearn.metrics import roc_curve, auc\n",
    "\n",
    "# 计算预测的概率\n",
    "y_prob = classifier.predict_proba(X_test_lda)[:, 1]\n",
    "\n",
    "# 计算ROC曲线\n",
    "fpr, tpr, thresholds = roc_curve(y_test, y_prob)\n",
    "roc_auc = auc(fpr, tpr)\n",
    "\n",
    "# 绘制ROC曲线\n",
    "plt.figure(figsize=(8, 6))\n",
    "plt.plot(fpr, tpr, color='blue', lw=2, label=f'ROC curve (AUC = {roc_auc:.2f})')\n",
    "plt.plot([0, 1], [0, 1], color='gray', lw=2, linestyle='--')\n",
    "plt.xlim([0.0, 1.0])\n",
    "plt.ylim([0.0, 1.05])\n",
    "plt.xlabel('False Positive Rate')\n",
    "plt.ylabel('True Positive Rate')\n",
    "plt.title('Receiver Operating Characteristic Curve (ROC)')\n",
    "plt.legend(loc=\"lower right\")\n",
    "plt.show()"
   ]
  },
  {
   "cell_type": "markdown",
   "id": "8e083d68-7bf5-489b-87d4-2d786ae2b0da",
   "metadata": {},
   "source": [
    "## 主题模型分析"
   ]
  },
  {
   "cell_type": "code",
   "execution_count": 13,
   "id": "26ef0c0e-f256-43d9-88a9-c64dbe51a6fd",
   "metadata": {
    "tags": []
   },
   "outputs": [
    {
     "name": "stdout",
     "output_type": "stream",
     "text": [
      "Topic 0:\n",
      "com email http click free www receive money mail account\n",
      "Topic 1:\n",
      "xls attached hpl file nom 2000 2001 article ur noms\n",
      "Topic 2:\n",
      "ect vince enron hou subject cc kaminski pm 2000 thanks\n",
      "Topic 3:\n",
      "enron power gas new energy market business trading group risk\n",
      "Topic 4:\n",
      "hourahead schedule dbcaps 97 database manual alias unknown failed failure\n",
      "Topic 5:\n",
      "hourahead schedules hour date start detected variances ancillary txt final\n",
      "Topic 6:\n",
      "713 attached louise message original sent enron 853 weekly fw\n",
      "Topic 7:\n",
      "meter deal ect daren 2000 hou gas enron cc thanks\n",
      "Topic 8:\n",
      "congratulations promotion tw gift et card michelle lokay fw survey\n",
      "Topic 9:\n",
      "http mortgage penis rate www com php loan credit tabs\n",
      "Topic 10:\n",
      "software xp windows adobe 95 professional microsoft 2004 office softwares\n",
      "Topic 11:\n",
      "statements company investment securities stock report stocks act advice news\n",
      "Topic 12:\n",
      "logo stationery business image competitors design custom identity company life\n",
      "Topic 13:\n",
      "viagra online prescription http drugs meds cialis generic shipping save\n",
      "Topic 14:\n",
      "lottery prize winning international numbers agent congratulations batch program claim\n",
      "Topic 15:\n",
      "save andmanyother nice al la hello total day para worldwide\n",
      "Topic 16:\n",
      "rolex com click free http watches removed remove www watch\n",
      "Topic 17:\n",
      "hpl teco tap enron actuals ls 000 request daily resource\n",
      "Topic 18:\n",
      "software mobile oem phone website oo search eastrans adobe submit\n",
      "Topic 19:\n",
      "promotional stop material medications message com jul content receiving href\n"
     ]
    }
   ],
   "source": [
    "import numpy as np\n",
    "\n",
    "# 获取LDA模型的主题-词分布\n",
    "n_words = 10  # 每个主题显示前10个词\n",
    "words = vectorizer.get_feature_names_out()\n",
    "\n",
    "for topic_idx, topic in enumerate(lda.components_):\n",
    "    print(f\"Topic {topic_idx}:\")\n",
    "    top_words_idx = topic.argsort()[-n_words:][::-1]\n",
    "    top_words = [words[i] for i in top_words_idx]\n",
    "    print(\" \".join(top_words))"
   ]
  },
  {
   "cell_type": "markdown",
   "id": "b88422fa-9835-43e4-8798-b23317bcf15c",
   "metadata": {},
   "source": [
    "# 消融实验"
   ]
  },
  {
   "cell_type": "code",
   "execution_count": null,
   "id": "44767671-f74a-4821-a9fb-cd3d6aaf0609",
   "metadata": {
    "tags": []
   },
   "outputs": [
    {
     "name": "stderr",
     "output_type": "stream",
     "text": [
      "Testing different topic numbers:   0%|          | 0/4 [00:00<?, ?it/s]"
     ]
    }
   ],
   "source": [
    "import pandas as pd\n",
    "from sklearn.feature_extraction.text import TfidfVectorizer\n",
    "from sklearn.model_selection import train_test_split\n",
    "from sklearn.preprocessing import LabelEncoder\n",
    "from sklearn.decomposition import LatentDirichletAllocation\n",
    "from sklearn.linear_model import LogisticRegression\n",
    "from sklearn.metrics import accuracy_score, roc_auc_score, f1_score\n",
    "from tqdm import tqdm  # 显示进度条\n",
    "import matplotlib.pyplot as plt\n",
    "\n",
    "# 加载数据\n",
    "data = pd.read_csv(file_path)\n",
    "\n",
    "# 数据预处理\n",
    "data['Content'] = data['Subject'].fillna('') + ' ' + data['Message'].fillna('')\n",
    "label_encoder = LabelEncoder()\n",
    "data['Spam/Ham'] = label_encoder.fit_transform(data['Spam/Ham'])\n",
    "X = data['Content']\n",
    "y = data['Spam/Ham']\n",
    "\n",
    "# 拆分训练集和测试集\n",
    "X_train, X_test, y_train, y_test = train_test_split(X, y, test_size=0.2, random_state=42, stratify=y)\n",
    "\n",
    "# TF-IDF 向量化\n",
    "vectorizer = TfidfVectorizer(max_features=3000, stop_words='english', ngram_range=(1, 1), sublinear_tf=True, use_idf=True)\n",
    "X_train_tfidf = vectorizer.fit_transform(X_train)\n",
    "X_test_tfidf = vectorizer.transform(X_test)\n",
    "\n",
    "# 定义不同的主题数\n",
    "topic_numbers = [5, 10, 20, 50]\n",
    "results = []  # 存储结果\n",
    "\n",
    "# 遍历不同的主题数\n",
    "for n_topics in tqdm(topic_numbers, desc=\"Testing different topic numbers\"):\n",
    "    # 1. 训练 LDA 模型\n",
    "    lda = LatentDirichletAllocation(\n",
    "        n_components=n_topics,\n",
    "        learning_method='batch',\n",
    "        max_iter=50,\n",
    "        learning_decay=0.7,\n",
    "        learning_offset=10,\n",
    "        random_state=42,\n",
    "        n_jobs=-1\n",
    "    )\n",
    "    lda.fit(X_train_tfidf)\n",
    "    \n",
    "    # 提取 LDA 特征\n",
    "    X_train_lda = lda.transform(X_train_tfidf)\n",
    "    X_test_lda = lda.transform(X_test_tfidf)\n",
    "    \n",
    "    # 2. 训练逻辑回归分类器\n",
    "    classifier = LogisticRegression(random_state=42, max_iter=1000)\n",
    "    classifier.fit(X_train_lda, y_train)\n",
    "    \n",
    "    # 3. 评估分类性能\n",
    "    y_pred = classifier.predict(X_test_lda)\n",
    "    y_prob = classifier.predict_proba(X_test_lda)[:, 1]  # 获取预测概率\n",
    "    \n",
    "    # 计算指标\n",
    "    acc = accuracy_score(y_test, y_pred)\n",
    "    auc = roc_auc_score(y_test, y_prob)\n",
    "    f1 = f1_score(y_test, y_pred)\n",
    "    \n",
    "    # 存储结果\n",
    "    results.append({\n",
    "        \"n_topics\": n_topics,\n",
    "        \"accuracy\": acc,\n",
    "        \"auc\": auc,\n",
    "        \"f1_score\": f1\n",
    "    })\n",
    "\n",
    "# 转换为 DataFrame\n",
    "results_df = pd.DataFrame(results)\n",
    "\n",
    "# 打印结果\n",
    "print(results_df)\n",
    "\n",
    "# 可视化结果\n",
    "plt.figure(figsize=(10, 6))\n",
    "plt.plot(results_df['n_topics'], results_df['accuracy'], marker='o', label='Accuracy')\n",
    "plt.plot(results_df['n_topics'], results_df['auc'], marker='o', label='AUC')\n",
    "plt.plot(results_df['n_topics'], results_df['f1_score'], marker='o', label='F1-score')\n",
    "plt.xlabel('Number of Topics')\n",
    "plt.ylabel('Score')\n",
    "plt.title('Performance vs. Number of Topics')\n",
    "plt.legend()\n",
    "plt.grid()\n",
    "plt.show()"
   ]
  },
  {
   "cell_type": "code",
   "execution_count": null,
   "id": "988dc793-0130-462b-be60-db2a1465df01",
   "metadata": {},
   "outputs": [],
   "source": []
  }
 ],
 "metadata": {
  "kernelspec": {
   "display_name": "Python 3 (ipykernel)",
   "language": "python",
   "name": "python3"
  },
  "language_info": {
   "codemirror_mode": {
    "name": "ipython",
    "version": 3
   },
   "file_extension": ".py",
   "mimetype": "text/x-python",
   "name": "python",
   "nbconvert_exporter": "python",
   "pygments_lexer": "ipython3",
   "version": "3.10.13"
  }
 },
 "nbformat": 4,
 "nbformat_minor": 5
}
